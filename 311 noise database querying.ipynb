{
 "metadata": {
  "name": "",
  "signature": "sha256:f98afd3bbf16e4557db08736bf5d07e8a43d65ba3f296e5b4edb4af66c1ae244"
 },
 "nbformat": 3,
 "nbformat_minor": 0,
 "worksheets": [
  {
   "cells": [
    {
     "cell_type": "code",
     "collapsed": false,
     "input": [
      "# Script for querying my local MySQL database of 311Noise complaints,\n",
      "# writing the queries to csv, uploading to CartoDB for mapping"
     ],
     "language": "python",
     "metadata": {},
     "outputs": [],
     "prompt_number": 13
    },
    {
     "cell_type": "code",
     "collapsed": false,
     "input": [
      "import MySQLdb as mdb\n",
      "import sys\n",
      "import csv\n",
      "import numpy as np"
     ],
     "language": "python",
     "metadata": {},
     "outputs": [],
     "prompt_number": 1
    },
    {
     "cell_type": "code",
     "collapsed": false,
     "input": [
      "con = mdb.connect('localhost','root',<my password>,'311noise');"
     ],
     "language": "python",
     "metadata": {},
     "outputs": [],
     "prompt_number": 2
    },
    {
     "cell_type": "code",
     "collapsed": false,
     "input": [
      "with con: \n",
      "    cur = con.cursor()\n",
      "    cur.execute(\"DESCRIBE Noise\")\n",
      "    \n",
      "    rows = cur.fetchall()\n",
      "    \n",
      "    for row in rows:\n",
      "        print row[0]"
     ],
     "language": "python",
     "metadata": {},
     "outputs": [
      {
       "output_type": "stream",
       "stream": "stdout",
       "text": [
        "Id\n",
        "Date_time\n",
        "Complaint_type\n",
        "Descriptor\n",
        "Location_type\n",
        "Zip\n",
        "Address\n",
        "Street_name\n",
        "Cross_street1\n",
        "Cross_street2\n",
        "Intersection_street1\n",
        "Intersection_street2\n",
        "Address_type\n",
        "City\n",
        "Borough\n",
        "Latitude\n",
        "Longitude\n"
       ]
      }
     ],
     "prompt_number": 3
    },
    {
     "cell_type": "code",
     "collapsed": false,
     "input": [
      "cd /Users/jamie/bin/311noise"
     ],
     "language": "python",
     "metadata": {},
     "outputs": [
      {
       "output_type": "stream",
       "stream": "stdout",
       "text": [
        "/Users/jamie/bin/311noise\n"
       ]
      }
     ],
     "prompt_number": 4
    },
    {
     "cell_type": "code",
     "collapsed": false,
     "input": [
      "# Look for types of noise on my street\n",
      "with con: \n",
      "    cur = con.cursor()\n",
      "    cur.execute(\"SELECT DESCRIPTOR,Location_type,Address \\\n",
      "    FROM Noise where Street_name LIKE '%EAST 81 %'\")\n",
      "        \n",
      "    for i in range(11):\n",
      "        \n",
      "        row = cur.fetchone()\n",
      "        print row"
     ],
     "language": "python",
     "metadata": {},
     "outputs": [
      {
       "output_type": "stream",
       "stream": "stdout",
       "text": [
        "('Loud Talking', 'Street/Sidewalk', '400 EAST 81 STREET')\n",
        "('Noise: Construction Equipment (NC1)', '', '340 EAST 81 STREET')\n",
        "('Noise, Barking Dog (NR5)', '', '520 EAST 81 STREET')\n",
        "('Noise: Construction Before/After Hours (', '', '115 EAST 81 STREET')\n",
        "('Noise, Barking Dog (NR5)', '', '520 EAST 81 STREET')\n",
        "('Loud Talking', 'Street/Sidewalk', '400 EAST 81 STREET')\n",
        "('Noise: Construction Equipment (NC1)', '', '340 EAST 81 STREET')\n",
        "('Noise: Construction Before/After Hours (', '', '19 EAST 81 STREET')\n",
        "('Noise: Construction Before/After Hours (', '', '757 EAST 81 STREET')\n",
        "('Other', 'Above Address', '23 EAST 81 STREET')\n",
        "('Loud Talking', 'Street/Sidewalk', '243 EAST 81 STREET')\n"
       ]
      }
     ],
     "prompt_number": 5
    },
    {
     "cell_type": "code",
     "collapsed": false,
     "input": [
      "# Get details on party complaints\n",
      "with con: \n",
      "    cur = con.cursor()\n",
      "    cur.execute(\"SELECT Date_time, Descriptor, Address, \\\n",
      "                Latitude, Longitude FROM Noise where Descriptor LIKE '%Party%'\")\n",
      "    \n",
      "    rows = cur.fetchall()"
     ],
     "language": "python",
     "metadata": {},
     "outputs": [],
     "prompt_number": 8
    },
    {
     "cell_type": "code",
     "collapsed": false,
     "input": [
      "# look at one of the rows\n",
      "print rows[0:1]"
     ],
     "language": "python",
     "metadata": {},
     "outputs": [
      {
       "output_type": "stream",
       "stream": "stdout",
       "text": [
        "((datetime.datetime(2015, 4, 4, 2, 12, 29), 'Loud Music/Party', '75-11 ROCKAWAY BOULEVARD', Decimal('40.68585025585859'), Decimal('-73.86501745811722')),)\n"
       ]
      }
     ],
     "prompt_number": 10
    },
    {
     "cell_type": "code",
     "collapsed": false,
     "input": [
      "# print to a csv for visualizing with CartoDB\n",
      "import csv\n",
      "with open('party_noise.csv', \"w\") as the_file:\n",
      "    csv.register_dialect(\"custom\", delimiter=\",\", skipinitialspace=True)\n",
      "    writer = csv.writer(the_file, dialect=\"custom\")\n",
      "    for tup in rows:\n",
      "        writer.writerow(tup)"
     ],
     "language": "python",
     "metadata": {},
     "outputs": [],
     "prompt_number": 44
    },
    {
     "cell_type": "code",
     "collapsed": false,
     "input": [
      "# import data to CartoDB using the python wrapper\n",
      "%run cartodb-utils.py import -f /Users/jamie/bin/311noise/party_noise.csv -k <my api key>  -u jkfitzg"
     ],
     "language": "python",
     "metadata": {},
     "outputs": [
      {
       "output_type": "stream",
       "stream": "stdout",
       "text": [
        "SUCCESS party_noise_2\n"
       ]
      }
     ],
     "prompt_number": 45
    },
    {
     "cell_type": "code",
     "collapsed": false,
     "input": [
      "# Get details on construction noise\n",
      "with con: \n",
      "    cur = con.cursor()\n",
      "    cur.execute(\"SELECT Date_time, Descriptor, Address,\\\n",
      "                Latitude, Longitude FROM Noise where Descriptor LIKE '%Construction%'\")\n",
      "    \n",
      "    rows = cur.fetchall()"
     ],
     "language": "python",
     "metadata": {},
     "outputs": [],
     "prompt_number": 11
    },
    {
     "cell_type": "code",
     "collapsed": false,
     "input": [
      "# look at the first entry\n",
      "print rows[0:1]"
     ],
     "language": "python",
     "metadata": {},
     "outputs": [
      {
       "output_type": "stream",
       "stream": "stdout",
       "text": [
        "((datetime.datetime(2015, 3, 4, 11, 57), 'Noise: Construction Before/After Hours (', '', Decimal('40.74966676207011'), Decimal('-73.98157172697513')),)\n"
       ]
      }
     ],
     "prompt_number": 12
    },
    {
     "cell_type": "code",
     "collapsed": false,
     "input": [
      "# print to a csv for visualizing with CartoDB\n",
      "import csv\n",
      "with open('construction_noise.csv', \"w\") as the_file:\n",
      "    csv.register_dialect(\"custom\", delimiter=\",\", skipinitialspace=True)\n",
      "    writer = csv.writer(the_file, dialect=\"custom\")\n",
      "    for tup in rows:\n",
      "        writer.writerow(tup)"
     ],
     "language": "python",
     "metadata": {},
     "outputs": [],
     "prompt_number": 48
    },
    {
     "cell_type": "code",
     "collapsed": false,
     "input": [
      "# import data to CartoDB using the python wrapper\n",
      "%run cartodb-utils.py import -f /Users/jamie/bin/311noise/construction_noise.csv -k <my api key>  -u jkfitzg"
     ],
     "language": "python",
     "metadata": {},
     "outputs": [
      {
       "output_type": "stream",
       "stream": "stdout",
       "text": [
        "SUCCESS construction_noise\n"
       ]
      }
     ],
     "prompt_number": 50
    },
    {
     "cell_type": "code",
     "collapsed": false,
     "input": [],
     "language": "python",
     "metadata": {},
     "outputs": []
    }
   ],
   "metadata": {}
  }
 ]
}