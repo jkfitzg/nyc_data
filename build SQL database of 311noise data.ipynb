{
 "metadata": {
  "name": "",
  "signature": "sha256:e3b207749a6095d00f180efe3de710ade8b20b8d53588666a6ab08bdc6079740"
 },
 "nbformat": 3,
 "nbformat_minor": 0,
 "worksheets": [
  {
   "cells": [
    {
     "cell_type": "code",
     "collapsed": false,
     "input": [
      "# Build a local MySQL database of the past year of 311Noise complaints\n",
      "# data from NYC Open data https://nycopendata.socrata.com/Social-Services/311-Service-Requests-from-2010-to-Present/erm2-nwe9"
     ],
     "language": "python",
     "metadata": {},
     "outputs": [],
     "prompt_number": 1
    },
    {
     "cell_type": "code",
     "collapsed": false,
     "input": [
      "import MySQLdb as mdb\n",
      "import sys\n",
      "import csv\n",
      "import numpy as np"
     ],
     "language": "python",
     "metadata": {},
     "outputs": [],
     "prompt_number": 2
    },
    {
     "cell_type": "code",
     "collapsed": false,
     "input": [
      "# connect to my database\n",
      "con = mdb.connect('localhost','root',<my password>,'311noise');\n"
     ],
     "language": "python",
     "metadata": {},
     "outputs": [],
     "prompt_number": 4
    },
    {
     "cell_type": "code",
     "collapsed": false,
     "input": [
      "path='/Users/jamie/Desktop/311 noise/'"
     ],
     "language": "python",
     "metadata": {},
     "outputs": [],
     "prompt_number": 5
    },
    {
     "cell_type": "code",
     "collapsed": false,
     "input": [
      "csv_data = csv.reader(file(path+'311_Service_Requests_past_year.csv'))"
     ],
     "language": "python",
     "metadata": {},
     "outputs": [],
     "prompt_number": 34
    },
    {
     "cell_type": "code",
     "collapsed": false,
     "input": [
      "line1=csv_data.next()"
     ],
     "language": "python",
     "metadata": {},
     "outputs": [],
     "prompt_number": 35
    },
    {
     "cell_type": "code",
     "collapsed": false,
     "input": [
      "print line1"
     ],
     "language": "python",
     "metadata": {},
     "outputs": [
      {
       "output_type": "stream",
       "stream": "stdout",
       "text": [
        "['Unique Key', 'Created Date', 'Closed Date', 'Agency', 'Agency Name', 'Complaint Type', 'Descriptor', 'Location Type', 'Incident Zip', 'Incident Address', 'Street Name', 'Cross Street 1', 'Cross Street 2', 'Intersection Street 1', 'Intersection Street 2', 'Address Type', 'City', 'Landmark', 'Facility Type', 'Status', 'Due Date', 'Resolution Action Updated Date', 'Community Board', 'Borough', 'X Coordinate (State Plane)', 'Y Coordinate (State Plane)', 'Park Facility Name', 'Park Borough', 'School Name', 'School Number', 'School Region', 'School Code', 'School Phone Number', 'School Address', 'School City', 'School State', 'School Zip', 'School Not Found', 'School or Citywide Complaint', 'Vehicle Type', 'Taxi Company Borough', 'Taxi Pick Up Location', 'Bridge Highway Name', 'Bridge Highway Direction', 'Road Ramp', 'Bridge Highway Segment', 'Garage Lot Name', 'Ferry Direction', 'Ferry Terminal Name', 'Latitude', 'Longitude', 'Location']\n"
       ]
      }
     ],
     "prompt_number": 36
    },
    {
     "cell_type": "code",
     "collapsed": false,
     "input": [
      "column_names = np.asarray(line1)\n",
      "print column_names"
     ],
     "language": "python",
     "metadata": {},
     "outputs": [
      {
       "output_type": "stream",
       "stream": "stdout",
       "text": [
        "['Unique Key' 'Created Date' 'Closed Date' 'Agency' 'Agency Name'\n",
        " 'Complaint Type' 'Descriptor' 'Location Type' 'Incident Zip'\n",
        " 'Incident Address' 'Street Name' 'Cross Street 1' 'Cross Street 2'\n",
        " 'Intersection Street 1' 'Intersection Street 2' 'Address Type' 'City'\n",
        " 'Landmark' 'Facility Type' 'Status' 'Due Date'\n",
        " 'Resolution Action Updated Date' 'Community Board' 'Borough'\n",
        " 'X Coordinate (State Plane)' 'Y Coordinate (State Plane)'\n",
        " 'Park Facility Name' 'Park Borough' 'School Name' 'School Number'\n",
        " 'School Region' 'School Code' 'School Phone Number' 'School Address'\n",
        " 'School City' 'School State' 'School Zip' 'School Not Found'\n",
        " 'School or Citywide Complaint' 'Vehicle Type' 'Taxi Company Borough'\n",
        " 'Taxi Pick Up Location' 'Bridge Highway Name' 'Bridge Highway Direction'\n",
        " 'Road Ramp' 'Bridge Highway Segment' 'Garage Lot Name' 'Ferry Direction'\n",
        " 'Ferry Terminal Name' 'Latitude' 'Longitude' 'Location']\n"
       ]
      }
     ],
     "prompt_number": 9
    },
    {
     "cell_type": "code",
     "collapsed": false,
     "input": [
      "# specify fields I want for my table\n",
      "useful_fields = ['Unique Key','Created Date','Complaint Type', 'Descriptor', \\\n",
      "                 'Location Type', 'Incident Zip', 'Incident Address', 'Street Name', \\\n",
      "                 'Cross Street 1', 'Cross Street 2', 'Intersection Street 1', \\\n",
      "                 'Intersection Street 2', 'Address Type', 'City','Borough',\\\n",
      "                 'Latitude', 'Longitude']"
     ],
     "language": "python",
     "metadata": {},
     "outputs": [],
     "prompt_number": 10
    },
    {
     "cell_type": "code",
     "collapsed": false,
     "input": [
      "# get the indicies of these columns\n",
      "useful_fields_is = []\n",
      "for useful_col in useful_fields:\n",
      "    useful_fields_is.append(np.where(column_names == useful_col)[0][0])"
     ],
     "language": "python",
     "metadata": {},
     "outputs": [],
     "prompt_number": 11
    },
    {
     "cell_type": "code",
     "collapsed": false,
     "input": [
      "# make a function for convert date-time from nyc data to \n",
      "# mySQL datatypes '04/04/2015 02:12:29 AM' to '2015-04-04 02:14:29'\n",
      "def format_date_time(original):\n",
      "    return original[6:10] + '-' + original[3:5] + '-' + original[0:2] + ' ' + original[-11:-3]"
     ],
     "language": "python",
     "metadata": {},
     "outputs": [],
     "prompt_number": 12
    },
    {
     "cell_type": "code",
     "collapsed": false,
     "input": [
      "# test my function\n",
      "format_date_time('04/04/2015 02:12:29 AM')"
     ],
     "language": "python",
     "metadata": {},
     "outputs": [
      {
       "metadata": {},
       "output_type": "pyout",
       "prompt_number": 13,
       "text": [
        "'2015-04-04 02:12:29'"
       ]
      }
     ],
     "prompt_number": 13
    },
    {
     "cell_type": "code",
     "collapsed": false,
     "input": [
      "# Create and describe my new table\n",
      "with con:\n",
      "    \n",
      "    cur = con.cursor()\n",
      "    \n",
      "    # create my Noise table\n",
      "    cur.execute(\"DROP TABLE IF EXISTS Noise\")\n",
      "    cur.execute(\"CREATE TABLE Noise(Id BIGINT PRIMARY KEY,\\\n",
      "                Date_time DATETIME,\\\n",
      "                Complaint_type VARCHAR(40),\\\n",
      "                Descriptor VARCHAR(40),\\\n",
      "                Location_type VARCHAR(40),\\\n",
      "                Zip MEDIUMINT,\\\n",
      "                Address VARCHAR(40),\\\n",
      "                Street_name VARCHAR(40),\\\n",
      "                Cross_street1 VARCHAR(40),\\\n",
      "                Cross_street2 VARCHAR(40),\\\n",
      "                Intersection_street1 VARCHAR(40),\\\n",
      "                Intersection_street2 VARCHAR(40),\\\n",
      "                Address_type VARCHAR(40),\\\n",
      "                City VARCHAR(40),\\\n",
      "                Borough VARCHAR(40),\\\n",
      "                Latitude DECIMAL(16,14),\\\n",
      "                Longitude DECIMAL(16,14))\")\n",
      "    \n",
      "    cur.execute(\"DESCRIBE Noise;\")\n",
      "    rows = cur.fetchall()\n",
      "    \n",
      "    for row in rows:\n",
      "        print row"
     ],
     "language": "python",
     "metadata": {},
     "outputs": [
      {
       "output_type": "stream",
       "stream": "stdout",
       "text": [
        "('Id', 'bigint(20)', 'NO', 'PRI', None, '')\n",
        "('Date_time', 'datetime', 'YES', '', None, '')\n",
        "('Complaint_type', 'varchar(40)', 'YES', '', None, '')\n",
        "('Descriptor', 'varchar(40)', 'YES', '', None, '')\n",
        "('Location_type', 'varchar(40)', 'YES', '', None, '')\n",
        "('Zip', 'mediumint(9)', 'YES', '', None, '')\n",
        "('Address', 'varchar(40)', 'YES', '', None, '')\n",
        "('Street_name', 'varchar(40)', 'YES', '', None, '')\n",
        "('Cross_street1', 'varchar(40)', 'YES', '', None, '')\n",
        "('Cross_street2', 'varchar(40)', 'YES', '', None, '')\n",
        "('Intersection_street1', 'varchar(40)', 'YES', '', None, '')\n",
        "('Intersection_street2', 'varchar(40)', 'YES', '', None, '')\n",
        "('Address_type', 'varchar(40)', 'YES', '', None, '')\n",
        "('City', 'varchar(40)', 'YES', '', None, '')\n",
        "('Borough', 'varchar(40)', 'YES', '', None, '')\n",
        "('Latitude', 'decimal(16,14)', 'YES', '', None, '')\n",
        "('Longitude', 'decimal(16,14)', 'YES', '', None, '')\n"
       ]
      }
     ],
     "prompt_number": 37
    },
    {
     "cell_type": "code",
     "collapsed": false,
     "input": [
      "# get the nummber of columns in my table\n",
      "np.shape(rows)"
     ],
     "language": "python",
     "metadata": {},
     "outputs": [
      {
       "metadata": {},
       "output_type": "pyout",
       "prompt_number": 15,
       "text": [
        "(17, 6)"
       ]
      }
     ],
     "prompt_number": 15
    },
    {
     "cell_type": "code",
     "collapsed": false,
     "input": [
      "# add all complaints from the csv file\n",
      "for row in csv_data:\n",
      "    to_insert = np.asarray(row)[useful_fields_is]\n",
      "    to_insert[1] = format_date_time(to_insert[1]) #reformat the date and time\n",
      "    \n",
      "    cur.execute(\"INSERT INTO Noise VALUES(%s,%s,%s,%s,\\\n",
      "        %s,%s,%s,%s,%s,%s,%s,%s,%s,%s,%s,%s,%s)\",to_insert)\n",
      "    "
     ],
     "language": "python",
     "metadata": {},
     "outputs": [
      {
       "output_type": "stream",
       "stream": "stderr",
       "text": [
        "-c:9: Warning: Data truncated for column 'Address' at row 1\n",
        "-c:9: Warning: Data truncated for column 'Street_name' at row 1\n"
       ]
      }
     ],
     "prompt_number": 42
    },
    {
     "cell_type": "code",
     "collapsed": false,
     "input": [
      "# show the first 10 entries of my database\n",
      "with con: \n",
      "    cur = con.cursor()\n",
      "    cur.execute(\"SELECT * FROM Noise\")\n",
      "    \n",
      "    for i in range(10):\n",
      "        \n",
      "        row = cur.fetchone()\n",
      "        print row"
     ],
     "language": "python",
     "metadata": {},
     "outputs": [
      {
       "output_type": "stream",
       "stream": "stdout",
       "text": [
        "(30327711L, datetime.datetime(2015, 4, 4, 2, 14, 29), 'Noise - Street/Sidewalk', 'Loud Talking', 'Street/Sidewalk', 10467, '3424 GATES PLACE', 'GATES PLACE', 'WEST MOSHOLU PARKWAY NORTH', 'WEST GUN HILL ROAD', '', '', 'ADDRESS', 'BRONX', 'BRONX', Decimal('40.88260252077106'), Decimal('-73.88395467577930'))\n",
        "(30328940L, datetime.datetime(2015, 4, 4, 2, 12, 29), 'Noise - Commercial', 'Loud Music/Party', 'Club/Bar/Restaurant', 11421, '75-11 ROCKAWAY BOULEVARD', 'ROCKAWAY BOULEVARD', '75 STREET', '76 STREET', '', '', 'ADDRESS', 'WOODHAVEN', 'QUEENS', Decimal('40.68585025585859'), Decimal('-73.86501745811722'))\n",
        "(30322922L, datetime.datetime(2015, 4, 4, 2, 8, 51), 'Noise - Commercial', 'Loud Music/Party', 'Store/Commercial', 11234, '5020 AVENUE N', 'AVENUE N', 'UTICA AVENUE', 'EAST 51 STREET', '', '', 'ADDRESS', 'BROOKLYN', 'BROOKLYN', Decimal('40.61896074794264'), Decimal('-73.92658253010710'))\n",
        "(30323557L, datetime.datetime(2015, 4, 4, 2, 8, 3), 'Noise - Street/Sidewalk', 'Loud Talking', 'Street/Sidewalk', 10027, '311 WEST 127 STREET', 'WEST 127 STREET', '8 AVENUE', 'ST NICHOLAS AVENUE', '', '', 'ADDRESS', 'NEW YORK', 'MANHATTAN', Decimal('40.81164200166336'), Decimal('-73.95059181345220'))\n",
        "(30326709L, datetime.datetime(2015, 4, 4, 2, 7, 20), 'Noise - Commercial', 'Loud Talking', 'Store/Commercial', 11385, '679 SENECA AVENUE', 'SENECA AVENUE', 'GATES AVENUE', 'PALMETTO STREET', '', '', 'ADDRESS', 'RIDGEWOOD', 'QUEENS', Decimal('40.70313821638603'), Decimal('-73.90822588529021'))\n",
        "(30325673L, datetime.datetime(2015, 4, 4, 2, 5, 59), 'Noise - Commercial', 'Loud Music/Party', 'Club/Bar/Restaurant', 11222, '66 GREENPOINT AVENUE', 'GREENPOINT AVENUE', 'WEST STREET', 'FRANKLIN STREET', '', '', 'ADDRESS', 'BROOKLYN', 'BROOKLYN', Decimal('40.72979694845176'), Decimal('-73.95838458100494'))\n",
        "(30324563L, datetime.datetime(2015, 4, 4, 2, 5, 52), 'Noise - Street/Sidewalk', 'Loud Music/Party', 'Street/Sidewalk', 10034, '502 WEST 213 STREET', 'WEST 213 STREET', '10 AVENUE', 'BROADWAY', '', '', 'ADDRESS', 'NEW YORK', 'MANHATTAN', Decimal('40.86834718763504'), Decimal('-73.91638242064833'))\n",
        "(30328389L, datetime.datetime(2015, 4, 4, 2, 1, 26), 'Noise - Street/Sidewalk', 'Loud Music/Party', 'Street/Sidewalk', 10065, '1134 1 AVENUE', '1 AVENUE', 'EAST 62 STREET', 'EAST 63 STREET', '', '', 'ADDRESS', 'NEW YORK', 'MANHATTAN', Decimal('40.76167245258792'), Decimal('-73.96044751491199'))\n",
        "(30324859L, datetime.datetime(2015, 4, 4, 1, 57, 44), 'Noise - Commercial', 'Loud Music/Party', 'Club/Bar/Restaurant', 10019, '120 WEST 57 STREET', 'WEST 57 STREET', 'AVENUE OF THE AMERICAS', '6 1/2 AVENUE', '', '', 'ADDRESS', 'NEW YORK', 'MANHATTAN', Decimal('40.76468814220956'), Decimal('-73.97809479410304'))\n",
        "(30322880L, datetime.datetime(2015, 4, 4, 1, 56, 14), 'Noise - Commercial', 'Loud Talking', 'Club/Bar/Restaurant', 10011, '40 WEST 8 STREET', 'WEST 8 STREET', 'MAC DOUGAL STREET', 'AVENUE OF THE AMERICAS', '', '', 'ADDRESS', 'NEW YORK', 'MANHATTAN', Decimal('40.73306796931126'), Decimal('-73.99829330165427'))\n"
       ]
      }
     ],
     "prompt_number": 46
    },
    {
     "cell_type": "code",
     "collapsed": false,
     "input": [
      "# Commit to the database\n",
      "con.commit()"
     ],
     "language": "python",
     "metadata": {},
     "outputs": [],
     "prompt_number": 47
    },
    {
     "cell_type": "code",
     "collapsed": false,
     "input": [],
     "language": "python",
     "metadata": {},
     "outputs": []
    }
   ],
   "metadata": {}
  }
 ]
}