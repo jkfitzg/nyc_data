{
 "metadata": {
  "name": "",
  "signature": "sha256:7c5f2049ec3ba256e9d94b68512e60184789e0048a142c4bd54d1e24050195b7"
 },
 "nbformat": 3,
 "nbformat_minor": 0,
 "worksheets": [
  {
   "cells": [
    {
     "cell_type": "code",
     "collapsed": false,
     "input": [
      "import MySQLdb as mdb\n",
      "import sys\n",
      "import csv\n",
      "import numpy as np\n",
      "import pandas as pd\n",
      "import string as s\n",
      "import matplotlib.pyplot as plt\n",
      "import matplotlib.cm as cm\n",
      "import matplotlib.colors as colors\n"
     ],
     "language": "python",
     "metadata": {},
     "outputs": [],
     "prompt_number": 1
    },
    {
     "cell_type": "code",
     "collapsed": false,
     "input": [
      "%matplotlib qt"
     ],
     "language": "python",
     "metadata": {},
     "outputs": [],
     "prompt_number": 2
    },
    {
     "cell_type": "code",
     "collapsed": false,
     "input": [
      "cd /Users/jamie/GitHub/nyc_data"
     ],
     "language": "python",
     "metadata": {},
     "outputs": [
      {
       "output_type": "stream",
       "stream": "stdout",
       "text": [
        "/Users/jamie/GitHub/nyc_data\n"
       ]
      }
     ],
     "prompt_number": 3
    },
    {
     "cell_type": "code",
     "collapsed": false,
     "input": [
      "%load_ext autoreload\n",
      "%autoreload 2\n",
      "from process_community_data import *"
     ],
     "language": "python",
     "metadata": {},
     "outputs": [],
     "prompt_number": 4
    },
    {
     "cell_type": "code",
     "collapsed": false,
     "input": [
      "Population_by_Community_df = build_population_df()"
     ],
     "language": "python",
     "metadata": {},
     "outputs": [],
     "prompt_number": 5
    },
    {
     "cell_type": "code",
     "collapsed": false,
     "input": [
      "Population_by_Community_df.head(2)"
     ],
     "language": "python",
     "metadata": {},
     "outputs": [
      {
       "html": [
        "<div style=\"max-height:1000px;max-width:1500px;overflow:auto;\">\n",
        "<table border=\"1\" class=\"dataframe\">\n",
        "  <thead>\n",
        "    <tr style=\"text-align: right;\">\n",
        "      <th></th>\n",
        "      <th>Borough</th>\n",
        "      <th>Community num</th>\n",
        "      <th>Community name</th>\n",
        "      <th>Population</th>\n",
        "    </tr>\n",
        "  </thead>\n",
        "  <tbody>\n",
        "    <tr>\n",
        "      <th>0</th>\n",
        "      <td> Bronx</td>\n",
        "      <td> 1</td>\n",
        "      <td> Melrose, Mott Haven, Port Morris</td>\n",
        "      <td> 91497</td>\n",
        "    </tr>\n",
        "    <tr>\n",
        "      <th>1</th>\n",
        "      <td> Bronx</td>\n",
        "      <td> 2</td>\n",
        "      <td>            Hunts Point, Longwood</td>\n",
        "      <td> 52246</td>\n",
        "    </tr>\n",
        "  </tbody>\n",
        "</table>\n",
        "</div>"
       ],
       "metadata": {},
       "output_type": "pyout",
       "prompt_number": 6,
       "text": [
        "  Borough Community num                    Community name Population\n",
        "0   Bronx             1  Melrose, Mott Haven, Port Morris      91497\n",
        "1   Bronx             2             Hunts Point, Longwood      52246"
       ]
      }
     ],
     "prompt_number": 6
    },
    {
     "cell_type": "code",
     "collapsed": false,
     "input": [
      "Zip_to_community_mapping_df = build_zip_to_community_df()"
     ],
     "language": "python",
     "metadata": {},
     "outputs": [],
     "prompt_number": 7
    },
    {
     "cell_type": "code",
     "collapsed": false,
     "input": [
      "Zip_to_community_mapping_df.head(2)"
     ],
     "language": "python",
     "metadata": {},
     "outputs": [
      {
       "html": [
        "<div style=\"max-height:1000px;max-width:1500px;overflow:auto;\">\n",
        "<table border=\"1\" class=\"dataframe\">\n",
        "  <thead>\n",
        "    <tr style=\"text-align: right;\">\n",
        "      <th></th>\n",
        "      <th>Zip</th>\n",
        "      <th>PUMA num</th>\n",
        "      <th>Community name long</th>\n",
        "      <th>Community name short</th>\n",
        "      <th>Per in Com</th>\n",
        "      <th>Per of Com</th>\n",
        "    </tr>\n",
        "  </thead>\n",
        "  <tbody>\n",
        "    <tr>\n",
        "      <th>0</th>\n",
        "      <td> 10451</td>\n",
        "      <td> 03710</td>\n",
        "      <td> NYC-Bronx Community District 1 &amp; 2--Hunts Poin...</td>\n",
        "      <td>    Hunts Point, Longwood &amp; Melrose</td>\n",
        "      <td> 0.482</td>\n",
        "      <td> 0.141</td>\n",
        "    </tr>\n",
        "    <tr>\n",
        "      <th>1</th>\n",
        "      <td> 10452</td>\n",
        "      <td> 03708</td>\n",
        "      <td> NYC-Bronx Community District 4--Concourse, Hig...</td>\n",
        "      <td> Concourse, Highbridge &amp; Mount Eden</td>\n",
        "      <td> 0.952</td>\n",
        "      <td> 0.515</td>\n",
        "    </tr>\n",
        "  </tbody>\n",
        "</table>\n",
        "</div>"
       ],
       "metadata": {},
       "output_type": "pyout",
       "prompt_number": 8,
       "text": [
        "     Zip PUMA num                                Community name long  \\\n",
        "0  10451    03710  NYC-Bronx Community District 1 & 2--Hunts Poin...   \n",
        "1  10452    03708  NYC-Bronx Community District 4--Concourse, Hig...   \n",
        "\n",
        "                 Community name short Per in Com Per of Com  \n",
        "0     Hunts Point, Longwood & Melrose      0.482      0.141  \n",
        "1  Concourse, Highbridge & Mount Eden      0.952      0.515  "
       ]
      }
     ],
     "prompt_number": 8
    },
    {
     "cell_type": "code",
     "collapsed": false,
     "input": [
      "NYC_Community_df, NYC_Community_zips_dict = merge_nyc_community_info(Zip_to_community_mapping_df,Population_by_Community_df)"
     ],
     "language": "python",
     "metadata": {},
     "outputs": [],
     "prompt_number": 9
    },
    {
     "cell_type": "code",
     "collapsed": false,
     "input": [
      "NYC_Community_df.head(2)"
     ],
     "language": "python",
     "metadata": {},
     "outputs": [
      {
       "html": [
        "<div style=\"max-height:1000px;max-width:1500px;overflow:auto;\">\n",
        "<table border=\"1\" class=\"dataframe\">\n",
        "  <thead>\n",
        "    <tr style=\"text-align: right;\">\n",
        "      <th></th>\n",
        "      <th>Borough</th>\n",
        "      <th>Num 1</th>\n",
        "      <th>Num 2</th>\n",
        "      <th>Community name</th>\n",
        "      <th>Population</th>\n",
        "    </tr>\n",
        "  </thead>\n",
        "  <tbody>\n",
        "    <tr>\n",
        "      <th>0</th>\n",
        "      <td> Bronx</td>\n",
        "      <td> 1</td>\n",
        "      <td>   2</td>\n",
        "      <td>    Hunts Point, Longwood &amp; Melrose</td>\n",
        "      <td> 143743</td>\n",
        "    </tr>\n",
        "    <tr>\n",
        "      <th>1</th>\n",
        "      <td> Bronx</td>\n",
        "      <td> 4</td>\n",
        "      <td> NaN</td>\n",
        "      <td> Concourse, Highbridge &amp; Mount Eden</td>\n",
        "      <td> 146441</td>\n",
        "    </tr>\n",
        "  </tbody>\n",
        "</table>\n",
        "</div>"
       ],
       "metadata": {},
       "output_type": "pyout",
       "prompt_number": 10,
       "text": [
        "  Borough Num 1 Num 2                      Community name Population\n",
        "0   Bronx     1     2     Hunts Point, Longwood & Melrose     143743\n",
        "1   Bronx     4   NaN  Concourse, Highbridge & Mount Eden     146441"
       ]
      }
     ],
     "prompt_number": 10
    },
    {
     "cell_type": "code",
     "collapsed": false,
     "input": [
      "NYC_Community_zips_dict['Upper East Side']"
     ],
     "language": "python",
     "metadata": {},
     "outputs": [
      {
       "metadata": {},
       "output_type": "pyout",
       "prompt_number": 11,
       "text": [
        "('10021', '10028', '10044', '10065', '10075', '10128', '10162')"
       ]
      }
     ],
     "prompt_number": 11
    },
    {
     "cell_type": "code",
     "collapsed": false,
     "input": [
      "# Now I can ask cool questions!\n",
      "#\n",
      "# Which community has the most total 311 noise calls? \n",
      "# Which has the most per capita? By common subtypes? \n",
      "# What is the noise distribution within boroughs?"
     ],
     "language": "python",
     "metadata": {},
     "outputs": [],
     "prompt_number": 12
    },
    {
     "cell_type": "code",
     "collapsed": false,
     "input": [
      "con = mdb.connect('localhost','root','hobbes','311noise');"
     ],
     "language": "python",
     "metadata": {},
     "outputs": [],
     "prompt_number": 13
    },
    {
     "cell_type": "code",
     "collapsed": false,
     "input": [
      "# what neighborhood has the most noise complaints -- absolute and per capita? \n",
      "all_community_names = NYC_Community_zips_dict.keys()\n",
      "n_communities = np.size(all_community_names)\n",
      "community_calls_per_1k_people = np.nan*np.ones(n_communities)\n",
      "\n",
      "with con: \n",
      "    cur = con.cursor()\n",
      "\n",
      "    for key,i in zip(NYC_Community_zips_dict.keys(),range(n_communities)):\n",
      "        zip_codes = NYC_Community_zips_dict[key]\n",
      "        if len(zip_codes) > 1:\n",
      "            cur.execute(\"SELECT COUNT(DESCRIPTOR) FROM Noise WHERE ZIP IN %s\"% (NYC_Community_zips_dict[key],))\n",
      "        elif len(zip_codes) == 1:\n",
      "            cur.execute(\"SELECT COUNT(DESCRIPTOR) FROM Noise WHERE ZIP = %s\"% NYC_Community_zips_dict[key])\n",
      "        \n",
      "        count = cur.fetchall()[0][0]\n",
      "        community_i = NYC_Community_df.ix[:,'Community name'] == key\n",
      "        this_population = (NYC_Community_df.ix[community_i,'Population'].values.tolist()[0])\n",
      "        calls_per_1k_people = round(float(count)/(this_population/1000.0),3)\n",
      "        community_calls_per_1k_people[i] = calls_per_1k_people\n",
      "        \n",
      "        if i%10 == 0: #print a subset for fun\n",
      "            print 'Neighborhood: %s, population %s, 311 noise calls per 1000 residents %s' \\\n",
      "                % (key, this_population, calls_per_1k_people)\n",
      "    "
     ],
     "language": "python",
     "metadata": {},
     "outputs": [
      {
       "output_type": "stream",
       "stream": "stdout",
       "text": [
        "Neighborhood: Port Richmond, Stapleton & Mariners Harbor, population 175756, 311 noise calls per 1000 residents 9.422\n",
        "Neighborhood: East Harlem, population 120511, 311 noise calls per 1000 residents 29.574"
       ]
      },
      {
       "output_type": "stream",
       "stream": "stdout",
       "text": [
        "\n",
        "Neighborhood: Park Slope, Carroll Gardens & Red Hook, population 104709, 311 noise calls per 1000 residents 25.709"
       ]
      },
      {
       "output_type": "stream",
       "stream": "stdout",
       "text": [
        "\n",
        "Neighborhood: Sheepshead Bay, Gerritsen Beach & Homecrest, population 159650, 311 noise calls per 1000 residents 8.575"
       ]
      },
      {
       "output_type": "stream",
       "stream": "stdout",
       "text": [
        "\n",
        "Neighborhood: Riverdale, Fieldston & Kingsbridge, population 101731, 311 noise calls per 1000 residents 9.191"
       ]
      },
      {
       "output_type": "stream",
       "stream": "stdout",
       "text": [
        "\n",
        "Neighborhood: Belmont, Crotona Park East & East Tremont, population 163030, 311 noise calls per 1000 residents 7.857"
       ]
      },
      {
       "output_type": "stream",
       "stream": "stdout",
       "text": [
        "\n"
       ]
      }
     ],
     "prompt_number": 14
    },
    {
     "cell_type": "code",
     "collapsed": false,
     "input": [
      "most_calls_i = int(np.argmax(community_calls_per_1k_people))\n",
      "least_calls_i = int(np.argmin(community_calls_per_1k_people))\n",
      "\n",
      "print '%s has the most 311 noise complaints at %s calls/1000 residents' %\\\n",
      "            (all_community_names[most_calls_i],community_calls_per_1k_people[most_calls_i])\n",
      "\n",
      "print '%s has the least 311 noise complaints at %s calls/1000 residents' %\\\n",
      "            (all_community_names[least_calls_i],community_calls_per_1k_people[least_calls_i])"
     ],
     "language": "python",
     "metadata": {},
     "outputs": [
      {
       "output_type": "stream",
       "stream": "stdout",
       "text": [
        "Chelsea, Clinton & Midtown Business District has the most 311 noise complaints at 63.569 calls/1000 residents\n",
        "Brighton Beach & Coney Island has the least 311 noise complaints at 2.839 calls/1000 residents\n"
       ]
      }
     ],
     "prompt_number": 15
    },
    {
     "cell_type": "code",
     "collapsed": false,
     "input": [
      "# Compare population densities here? I'd also love to know about reporting biases"
     ],
     "language": "python",
     "metadata": {},
     "outputs": [],
     "prompt_number": 16
    },
    {
     "cell_type": "code",
     "collapsed": false,
     "input": [
      "# How does the type of noise compare where I live versus where I'd rather live? "
     ],
     "language": "python",
     "metadata": {},
     "outputs": [],
     "prompt_number": 17
    },
    {
     "cell_type": "code",
     "collapsed": false,
     "input": [
      "# get unique noise types\n",
      "with con: \n",
      "    cur = con.cursor()\n",
      "    cur.execute(\"SELECT DISTINCT DESCRIPTOR FROM Noise\")\n",
      "    \n",
      "    unique_noise_types = cur.fetchall()"
     ],
     "language": "python",
     "metadata": {},
     "outputs": [],
     "prompt_number": 18
    },
    {
     "cell_type": "code",
     "collapsed": false,
     "input": [
      "print unique_noise_types[2] #show a subset of the noise\n",
      "n_noise_types = len(unique_noise_types)\n",
      "print n_noise_types"
     ],
     "language": "python",
     "metadata": {},
     "outputs": [
      {
       "output_type": "stream",
       "stream": "stdout",
       "text": [
        "('Engine Idling',)\n",
        "27\n"
       ]
      }
     ],
     "prompt_number": 19
    },
    {
     "cell_type": "code",
     "collapsed": false,
     "input": [
      "community_subset = ('Brooklyn Heights & Fort Greene','Park Slope, Carroll Gardens & Red Hook','Upper East Side')"
     ],
     "language": "python",
     "metadata": {},
     "outputs": [],
     "prompt_number": 20
    },
    {
     "cell_type": "code",
     "collapsed": false,
     "input": [
      "n_places = len(community_subset)\n",
      "noise_type_counts_by_place = np.nan*np.ones([n_places,n_noise_types])\n",
      "with con:\n",
      "    cur = con.cursor()\n",
      "    \n",
      "    for community,r in zip(community_subset,range(n_places)):\n",
      "        \n",
      "        community_i = NYC_Community_df.ix[:,'Community name'] == community\n",
      "        this_population = (NYC_Community_df.ix[community_i,'Population'].values.tolist()[0])\n",
      "        \n",
      "        for noise_type,c in zip(unique_noise_types,range(n_noise_types)):\n",
      "            cur.execute(\"SELECT COUNT(DESCRIPTOR) FROM Noise WHERE DESCRIPTOR = '%s'\\\n",
      "                        AND ZIP IN %s\" % (noise_type[0], NYC_Community_zips_dict[community],))\n",
      "                        \n",
      "            count = cur.fetchall()[0][0]\n",
      "            \n",
      "            noise_type_counts_by_place[r,c] = float(count)/(this_population/1000)"
     ],
     "language": "python",
     "metadata": {},
     "outputs": [],
     "prompt_number": 21
    },
    {
     "cell_type": "code",
     "collapsed": false,
     "input": [
      "# now plot the top 5 noise complaint types/neighborhood"
     ],
     "language": "python",
     "metadata": {},
     "outputs": [],
     "prompt_number": 22
    },
    {
     "cell_type": "code",
     "collapsed": false,
     "input": [
      "# get colormap info ____________________________\n",
      "cmap = plt.cm.get_cmap('spectral')  \n",
      "cNorm  = colors.Normalize(0,12)\n",
      "scalarMap = cm.ScalarMappable(norm=cNorm, cmap=cmap) \n",
      "\n",
      "fig = plt.figure(figsize=(12,6))\n",
      "top_noise_types = []\n",
      "for r in range(n_places):\n",
      "    place_sorted_is = np.argsort(noise_type_counts_by_place[r,:]) #sorts in ascending order\n",
      "    \n",
      "    for c in range(-1,-6,-1): \n",
      "        noise_type_index = place_sorted_is[c]\n",
      "        top_noise_types.append(noise_type_index)\n",
      "        this_color = scalarMap.to_rgba(noise_type_index) \n",
      "        plt.plot(r, noise_type_counts_by_place[r,noise_type_index],'o',markersize=10,color=this_color)"
     ],
     "language": "python",
     "metadata": {},
     "outputs": [],
     "prompt_number": 23
    },
    {
     "cell_type": "code",
     "collapsed": false,
     "input": [
      "#Scale, label axes\n",
      "plt.xlim([-.5,2.5])\n",
      "plt.xlabel('Community')\n",
      "plt.ylabel('311 noise calls/1000 residents')\n",
      "plt.xticks([0,1,2],community_subset,fontsize=11)\n",
      "plt.title('Noise types in a few neighborhoods')\n",
      "\n",
      "#now annotate noise types\n",
      "unique_top_noise_types = np.unique(top_noise_types)\n",
      "n_unique_types = len(unique_top_noise_types)\n",
      "\n",
      "for noise_i, count in zip(unique_top_noise_types,range(n_unique_types)):\n",
      "    this_color = scalarMap.to_rgba(noise_i) \n",
      "    plt.text(1.5,18-count/1.2,unique_noise_types[noise_i][0],fontsize=11,color=this_color)"
     ],
     "language": "python",
     "metadata": {},
     "outputs": [],
     "prompt_number": 24
    },
    {
     "cell_type": "code",
     "collapsed": false,
     "input": [
      "saveas_path = '/Users/jamie/GitHub/nyc_data/'\n",
      "plt.savefig(saveas_path + 'Top noise types by community.png',bbox_inches='tight',dpi=100)   "
     ],
     "language": "python",
     "metadata": {},
     "outputs": [],
     "prompt_number": 26
    },
    {
     "cell_type": "code",
     "collapsed": false,
     "input": [
      "#plt.close('all')"
     ],
     "language": "python",
     "metadata": {},
     "outputs": [],
     "prompt_number": 95
    },
    {
     "cell_type": "code",
     "collapsed": false,
     "input": [],
     "language": "python",
     "metadata": {},
     "outputs": []
    }
   ],
   "metadata": {}
  }
 ]
}